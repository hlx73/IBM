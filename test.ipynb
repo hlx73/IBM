{
  "cells": [
    {
      "cell_type": "code",
      "source": [
        "print(\"kk\")"
      ],
      "metadata": {
        "id": "s6qqipwRelJ3"
      },
      "execution_count": null,
      "outputs": []
    }
  ],
  "metadata": {
    "colab": {
      "provenance": []
    }
  },
  "nbformat": 4,
  "nbformat_minor": 0
}